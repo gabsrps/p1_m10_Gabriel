{
  "nbformat": 4,
  "nbformat_minor": 0,
  "metadata": {
    "colab": {
      "provenance": [],
      "collapsed_sections": [
        "hAI4WVs6E2vi",
        "f_y3dG-wFAy1"
      ]
    },
    "kernelspec": {
      "name": "python3",
      "display_name": "Python 3"
    },
    "language_info": {
      "name": "python"
    }
  },
  "cells": [
    {
      "cell_type": "markdown",
      "source": [
        "<center>\n",
        "  <img src=\"https://www.inteli.edu.br/wp-content/uploads/2022/04/28103439/Logo-Container.png\" />\n",
        "</center>"
      ],
      "metadata": {
        "id": "V2N9h-9_J-pH"
      }
    },
    {
      "cell_type": "markdown",
      "source": [
        "# `[SI10-2024-P1]` - Prova Prática"
      ],
      "metadata": {
        "id": "17CxrA-0KNVC"
      }
    },
    {
      "cell_type": "markdown",
      "source": [
        "Sistemas de Informação - Módulo 10 - Turma 4\n",
        "\n"
      ],
      "metadata": {
        "id": "rUdo4gdLMUQO"
      }
    },
    {
      "cell_type": "markdown",
      "source": [
        "**Nome**: *Gabriel Rocha Pinto Santos*"
      ],
      "metadata": {
        "id": "fOUrvQIkEuaj"
      }
    },
    {
      "cell_type": "markdown",
      "source": [
        "**ANTES DE PROSSEGUIR FAÇA UMA CÓPIA DESTE NOTEBOOK**"
      ],
      "metadata": {
        "id": "0zjnr3Mq2Pqb"
      }
    },
    {
      "cell_type": "markdown",
      "source": [
        "----"
      ],
      "metadata": {
        "id": "yLqgpidSE1jb"
      }
    },
    {
      "cell_type": "markdown",
      "source": [
        "## Contexto"
      ],
      "metadata": {
        "id": "hAI4WVs6E2vi"
      }
    },
    {
      "cell_type": "markdown",
      "source": [
        "Uma plataforma online, que atua na venda de produtos, deseja otimizar sua interface para melhorar a experiência do usuário e aumentar as taxas de conversão. Recentemente, a empresa implementou um redesign de sua página web, e os registros dessa mudança estão detalhados nos dados coletados desde então. As variáveis registradas diariamente incluem o número de visitantes únicos, sessões, taxa de rejeição, páginas por sessão, principais origens do tráfego, tipos de dispositivos usados, eventos ocorridos, taxa de conversão e o tempo médio de sessão.\n",
        "\n",
        "Com base nesses dados, a empresa considera realizar uma mudança similar para otimizar ainda mais sua plataforma. Antes de proceder, a equipe deseja empregar simulações de Monte Carlo para avaliar os possíveis impactos de um novo redesign na taxa de conversão, tempo médio de sessão e taxa de rejeição, utilizando análises estatísticas para prever tendências futuras e ajustar estratégias de maneira informada. Essa abordagem visa garantir que as decisões tomadas maximizem as taxas de conversões, fundamentais para o sucesso contínuo da plataforma."
      ],
      "metadata": {
        "id": "MxHRN2DpE_B6"
      }
    },
    {
      "cell_type": "markdown",
      "source": [
        "## Importação do dataset e das bibliotecas"
      ],
      "metadata": {
        "id": "f_y3dG-wFAy1"
      }
    },
    {
      "cell_type": "code",
      "source": [
        "# Importação do dataset\n",
        "# https://drive.google.com/file/d/1K_2ZDsrhheRDKoHN2ynfLCPGPFiS2CZr/view?usp=drive_link\n",
        "!gdown 1K_2ZDsrhheRDKoHN2ynfLCPGPFiS2CZr"
      ],
      "metadata": {
        "colab": {
          "base_uri": "https://localhost:8080/"
        },
        "id": "qenoiQovFDmA",
        "outputId": "e0517e93-85e3-45d4-ebb4-ad1e36721027"
      },
      "execution_count": 1,
      "outputs": [
        {
          "output_type": "stream",
          "name": "stdout",
          "text": [
            "Downloading...\n",
            "From: https://drive.google.com/uc?id=1K_2ZDsrhheRDKoHN2ynfLCPGPFiS2CZr\n",
            "To: /content/ITL-SI10-2024-P1-dataset.csv\n",
            "\r  0% 0.00/7.03k [00:00<?, ?B/s]\r100% 7.03k/7.03k [00:00<00:00, 12.0MB/s]\n"
          ]
        }
      ]
    },
    {
      "cell_type": "code",
      "source": [
        "# Importação das bibliotecas\n",
        "import pandas as pd\n",
        "from pandas import Series, DataFrame\n",
        "import matplotlib.pyplot as plt\n",
        "import matplotlib as mpl\n",
        "import numpy as np\n",
        "import scipy.stats as stats\n",
        "import random\n",
        "import plotly.express as px\n",
        "\n",
        "\n",
        "# Transforma o dataset em DataFrame Pandas\n",
        "df = pd.read_csv('ITL-SI10-2024-P1-dataset.csv')\n",
        "print(df.head())"
      ],
      "metadata": {
        "colab": {
          "base_uri": "https://localhost:8080/"
        },
        "id": "EKRMnxrgFOFF",
        "outputId": "7babf79a-eb5b-45b0-9b83-c9f386f8ad82"
      },
      "execution_count": 25,
      "outputs": [
        {
          "output_type": "stream",
          "name": "stdout",
          "text": [
            "         Data  Visitantes Únicos  Sessões  Taxa de Rejeição (%)  \\\n",
            "0  2023-01-01              113.0    126.0             50.496714   \n",
            "1  2023-01-02               90.0    157.0             49.438007   \n",
            "2  2023-01-03               92.0    185.0             49.800231   \n",
            "3  2023-01-04              130.0    206.0             50.251843   \n",
            "4  2023-01-05              123.0    155.0             48.070931   \n",
            "\n",
            "   Páginas por Sessão Principais Origens do Tráfego Dispositivos  Eventos  \\\n",
            "0            1.834201                        Direto      Desktop        8   \n",
            "1            1.955760                        Social      Desktop        5   \n",
            "2            2.285052                        Direto      Desktop        9   \n",
            "3            2.325464                          Pago       Mobile        6   \n",
            "4            2.267006                        Direto      Desktop        6   \n",
            "\n",
            "   Taxa de Conversão (%)  Tempo Médio de Sessão (minutos)  \n",
            "0               1.952083                         5.395516  \n",
            "1               2.066180                         4.680899  \n",
            "2               2.058858                         5.972584  \n",
            "3               2.134617                         4.705854  \n",
            "4               2.420236                         5.835801  \n"
          ]
        }
      ]
    },
    {
      "cell_type": "markdown",
      "source": [
        "## Questões"
      ],
      "metadata": {
        "id": "3KN7GhBo1hk0"
      }
    },
    {
      "cell_type": "markdown",
      "source": [
        "### Questão 1"
      ],
      "metadata": {
        "id": "0vydKbqQ17_d"
      }
    },
    {
      "cell_type": "markdown",
      "source": [
        "**Análise Exploratória de Dados**: Faça a exploração dos dados, utilizando gráficos interativos. Identifique correlações entre as variáveis e apresente essas relações em uma matriz de correlação focada nas variáveis mais relevantes para a conversão de vendas."
      ],
      "metadata": {
        "id": "zLhCUOz_1vyj"
      }
    },
    {
      "cell_type": "code",
      "source": [
        "df.plot(x='Taxa de Conversão (%)', y='Sessões', kind='scatter')\n",
        "plt.show()"
      ],
      "metadata": {
        "id": "iWukqoJ_2XAn",
        "colab": {
          "base_uri": "https://localhost:8080/",
          "height": 454
        },
        "outputId": "2acd4f3d-608f-41fa-9658-b1c07cbde319"
      },
      "execution_count": 20,
      "outputs": [
        {
          "output_type": "display_data",
          "data": {
            "text/plain": [
              "<Figure size 640x480 with 1 Axes>"
            ],
            "image/png": "[encoded data removed]"
          },
          "metadata": {}
        }
      ]
    },
    {
      "cell_type": "code",
      "source": [
        "df.plot(x='Taxa de Conversão (%)', y='Tempo Médio de Sessão (minutos)', kind='scatter')\n",
        "plt.show()"
      ],
      "metadata": {
        "colab": {
          "base_uri": "https://localhost:8080/",
          "height": 449
        },
        "id": "oGznO_OAhYcj",
        "outputId": "370580f5-7a13-467a-d513-dd07069ac519"
      },
      "execution_count": 21,
      "outputs": [
        {
          "output_type": "display_data",
          "data": {
            "text/plain": [
              "<Figure size 640x480 with 1 Axes>"
            ],
            "image/png": "[encoded data removed]"
          },
          "metadata": {}
        }
      ]
    },
    {
      "cell_type": "code",
      "source": [
        "df.plot(x='Taxa de Conversão (%)', y='Visitantes Únicos', kind='scatter')\n",
        "plt.show()"
      ],
      "metadata": {
        "colab": {
          "base_uri": "https://localhost:8080/",
          "height": 449
        },
        "id": "QoyNugPYhzdE",
        "outputId": "4b79abe3-e7da-4c88-c39b-13fcfdaa3f33"
      },
      "execution_count": 23,
      "outputs": [
        {
          "output_type": "display_data",
          "data": {
            "text/plain": [
              "<Figure size 640x480 with 1 Axes>"
            ],
            "image/png": "[encoded data removed]"
          },
          "metadata": {}
        }
      ]
    },
    {
      "cell_type": "markdown",
      "source": [
        "A quantidade diária de visitantes únicos, sessão e tempo médio de sessão apresentam correlação positiva quanto a taxa de conversão, ou seja quanto maior qualquer uma das 3 quantidades maior será a taxa de conversão."
      ],
      "metadata": {
        "id": "sCbKoTWGiXuK"
      }
    },
    {
      "cell_type": "markdown",
      "source": [
        "### Questão 2"
      ],
      "metadata": {
        "id": "RrBHNnB_2Bmm"
      }
    },
    {
      "cell_type": "markdown",
      "source": [
        "**Simulação de Monte Carlo**: Implemente uma simulação de Monte Carlo para avaliar os possíveis efeitos de um novo redesign na plataforma. Analise como diferentes variáveis podem impactar os resultados e discuta os cenários que esta simulação pode prever, ajudando a empresa a tomar decisões mais informadas sobre o redesign."
      ],
      "metadata": {
        "id": "sVHHacPC1yHy"
      }
    },
    {
      "cell_type": "code",
      "source": [
        "sim_campaigns_period = 60\n",
        "\n",
        "Y = df.head(sim_campaigns_period)\n",
        "X = df.tail(df.shape[0] - sim_campaigns_period)\n",
        "\n",
        "X.columns"
      ],
      "metadata": {
        "id": "pdb_J-0O2i1a",
        "colab": {
          "base_uri": "https://localhost:8080/"
        },
        "outputId": "53b000c8-0a6d-48bd-bdcc-213dde4469e8"
      },
      "execution_count": 24,
      "outputs": [
        {
          "output_type": "execute_result",
          "data": {
            "text/plain": [
              "Index(['Data', 'Visitantes Únicos', 'Sessões', 'Taxa de Rejeição (%)',\n",
              "       'Páginas por Sessão', 'Principais Origens do Tráfego', 'Dispositivos',\n",
              "       'Eventos', 'Taxa de Conversão (%)', 'Tempo Médio de Sessão (minutos)'],\n",
              "      dtype='object')"
            ]
          },
          "metadata": {},
          "execution_count": 24
        }
      ]
    },
    {
      "cell_type": "code",
      "source": [
        "dias_para_prever_Sessões = 60\n",
        "num_simulacoes_Sessões = 10000\n",
        "media = df['Sessões'].mean()\n",
        "desvio_padrao = df['Sessões'].std()"
      ],
      "metadata": {
        "id": "ISEEfL2AlAtc"
      },
      "execution_count": 41,
      "outputs": []
    },
    {
      "cell_type": "code",
      "source": [
        "simulacoes = [np.random.normal(loc=media, scale=desvio_padrao, size=dias_para_prever_Sessões) for _ in range(num_simulacoes_Sessões)]\n",
        "resultados_simulacao = pd.DataFrame(simulacoes).transpose()\n",
        "resultados_media = resultados_simulacao.mean(axis=1)\n",
        "resultados_std = resultados_simulacao.std(axis=1)"
      ],
      "metadata": {
        "id": "x3kCnvwtlB-Q"
      },
      "execution_count": 42,
      "outputs": []
    },
    {
      "cell_type": "code",
      "source": [
        "dias = list(range(1, dias_para_prever_Sessões + 1))\n",
        "previsoes = pd.DataFrame({\n",
        "    'Dia': dias,\n",
        "    'Média das Previsões': resultados_media,\n",
        "    'Desvio Padrão': resultados_std,\n",
        "    'Limite Inferior': resultados_media - resultados_std,\n",
        "    'Limite Superior': resultados_media + resultados_std\n",
        "})"
      ],
      "metadata": {
        "id": "sGh8AmAmlWwl"
      },
      "execution_count": 43,
      "outputs": []
    },
    {
      "cell_type": "code",
      "source": [
        "fig = px.line(previsoes, x='Dia', y='Média das Previsões', title='Previsão de Sessões para os Próximos 60 Dias')\n",
        "fig.add_scatter(x=previsoes['Dia'], y=previsoes['Limite Inferior'], fill='tonexty', mode='lines', line=dict(color='lightblue'), showlegend=False)\n",
        "fig.add_scatter(x=previsoes['Dia'], y=previsoes['Limite Superior'], fill='tonexty', mode='lines', line=dict(color='lightblue'), showlegend=False, name='Intervalo de 1 Desvio Padrão')\n",
        "fig.update_layout(xaxis_title='Dias', yaxis_title='Sessões', legend_title='Legenda')\n",
        "fig.show()"
      ],
      "metadata": {
        "colab": {
          "base_uri": "https://localhost:8080/",
          "height": 542
        },
        "id": "kRehPiq_laEy",
        "outputId": "7a261880-9d20-4b4c-9b7b-ce8dcf5cd350"
      },
      "execution_count": 44,
      "outputs": [
        {
          "output_type": "display_data",
          "data": {
            "text/html": [
              "<html>\n",
              "<head><meta charset=\"utf-8\" /></head>\n",
              "<body>\n",
              "    <div>            <script src=\"https://cdnjs.cloudflare.com/ajax/libs/mathjax/2.7.5/MathJax.js?config=TeX-AMS-MML_SVG\"></script><script type=\"text/javascript\">if (window.MathJax && window.MathJax.Hub && window.MathJax.Hub.Config) {window.MathJax.Hub.Config({SVG: {font: \"STIX-Web\"}});}</script>                <script type=\"text/javascript\">window.PlotlyConfig = {MathJaxConfig: 'local'};</script>\n",
              "        <script charset=\"utf-8\" src=\"https://cdn.plot.ly/plotly-2.24.1.min.js\"></script>                <div id=\"5765483c-186b-41d1-b5da-f054e39bd9cc\" class=\"plotly-graph-div\" style=\"height:525px; width:100%;\"></div>            <script type=\"text/javascript\">                                    window.PLOTLYENV=window.PLOTLYENV || {};                                    if (document.getElementById(\"5765483c-186b-41d1-b5da-f054e39bd9cc\")) {                    Plotly.newPlot(                        \"5765483c-186b-41d1-b5da-f054e39bd9cc\",                        [{\"hovertemplate\":\"Dia=%{x}\\u003cbr\\u003eM\\u00e9dia das Previs\\u00f5es=%{y}\\u003cextra\\u003e\\u003c\\u002fextra\\u003e\",\"legendgroup\":\"\",\"line\":{\"color\":\"#636efa\",\"dash\":\"solid\"},\"marker\":{\"symbol\":\"circle\"},\"mode\":\"lines\",\"name\":\"\",\"orientation\":\"v\",\"showlegend\":false,\"x\":[1,2,3,4,5,6,7,8,9,10,11,12,13,14,15,16,17,18,19,20,21,22,23,24,25,26,27,28,29,30,31,32,33,34,35,36,37,38,39,40,41,42,43,44,45,46,47,48,49,50,51,52,53,54,55,56,57,58,59,60],\"xaxis\":\"x\",\"y\":[448.70521626002994,449.39406079972565,449.03365194601287,448.5401676577718,446.78963986240626,450.51937468318965,448.72916570524575,449.7557231347789,449.171294743832,450.8959586283325,448.1685783914436,445.60033027787415,450.9936559719461,448.0025525157377,447.9542611364057,450.11012459285416,449.3162941065498,450.48635585142074,446.37890195138135,445.02075270339736,447.4180703530452,448.15679736671905,451.6423050996716,450.4180207664117,447.83288738317725,448.2276264681274,447.76172022429546,449.8193882526661,449.1773121121477,448.1371268259919,449.58267605645193,447.9480239520222,448.3725393524233,448.76191657263615,447.6793877054903,449.913374121851,449.7010825050337,447.7734920851128,453.28244400097225,447.0488829301715,451.3511172233751,447.45173862677814,450.59218433877305,447.2471778581051,448.67675611636565,450.55439924613256,450.40675740680916,446.16451079445426,449.4717555643657,451.1933295922221,449.3225612764185,451.7261952652503,446.1136434387576,454.1674938954245,448.1057115702487,450.6791577765193,448.8327085283428,450.35311366363896,451.30973062400983,448.09859934772896],\"yaxis\":\"y\",\"type\":\"scatter\"},{\"fill\":\"tonexty\",\"line\":{\"color\":\"lightblue\"},\"mode\":\"lines\",\"showlegend\":false,\"x\":[1,2,3,4,5,6,7,8,9,10,11,12,13,14,15,16,17,18,19,20,21,22,23,24,25,26,27,28,29,30,31,32,33,34,35,36,37,38,39,40,41,42,43,44,45,46,47,48,49,50,51,52,53,54,55,56,57,58,59,60],\"y\":[266.39965178141165,266.6350921868842,266.219650945627,266.0430436880367,262.87309257021366,267.7733857172085,267.73807301685645,265.6997549910908,266.22727064907923,267.1357851556145,264.89347573416626,262.2516126336323,267.10123164551806,265.7906580759672,265.00273545750326,267.20759949715057,266.5215803374747,266.9699667397201,262.6773161446016,260.60137031096536,265.89647376949307,266.9243825884265,268.35668776853385,268.9304603122066,264.40632406979375,265.9547566789463,266.0129551490302,269.6181138531575,267.283121191669,266.59513451130624,264.4972527073328,267.2199147850972,266.163972393088,264.1009918720892,267.0215931254729,268.9810310705569,270.5277862122505,264.8671338070408,273.3751095403139,263.21210986642325,269.27447249186923,264.7307030912225,268.3187998743506,263.7542007262911,266.2318053907326,268.61428609598295,267.288348039987,262.3304736628295,266.68906364928216,271.0859182639866,268.2083670356872,270.6744433040461,265.5062030335971,271.2057437516748,266.6663468307065,267.07745465944015,267.1655443967836,266.8729901866408,268.9620360288841,264.3580927409381],\"type\":\"scatter\"},{\"fill\":\"tonexty\",\"line\":{\"color\":\"lightblue\"},\"mode\":\"lines\",\"name\":\"Intervalo de 1 Desvio Padr\\u00e3o\",\"showlegend\":false,\"x\":[1,2,3,4,5,6,7,8,9,10,11,12,13,14,15,16,17,18,19,20,21,22,23,24,25,26,27,28,29,30,31,32,33,34,35,36,37,38,39,40,41,42,43,44,45,46,47,48,49,50,51,52,53,54,55,56,57,58,59,60],\"y\":[631.0107807386482,632.1530294125671,631.8476529463987,631.0372916275069,630.7061871545989,633.2653636491708,629.720258393635,633.811691278467,632.1153188385847,634.6561321010505,631.4436810487209,628.949047922116,634.8860802983742,630.2144469555083,630.9057868153081,633.0126496885578,632.1110078756249,634.0027449631214,630.0804877581611,629.4401350958294,628.9396669365974,629.3892121450116,634.9279224308093,631.9055812206168,631.2594506965607,630.5004962573086,629.5104852995607,630.0206626521747,631.0715030326264,629.6791191406776,634.6680994055711,628.6761331189472,630.5811063117586,633.4228412731832,628.3371822855077,630.8457171731451,628.8743787978169,630.6798503631849,633.1897784616306,630.8856559939197,633.427761954881,630.1727741623338,632.8655688031955,630.7401549899191,631.1217068419987,632.4945123962822,633.5251667736313,629.998547926079,632.2544474794493,631.3007409204575,630.4367555171498,632.7779472264544,626.7210838439181,637.1292440391742,629.5450763097908,634.2808608935984,630.4998726599019,633.8332371406372,633.6574252191356,631.8391059545198],\"type\":\"scatter\"}],                        {\"template\":{\"data\":{\"histogram2dcontour\":[{\"type\":\"histogram2dcontour\",\"colorbar\":{\"outlinewidth\":0,\"ticks\":\"\"},\"colorscale\":[[0.0,\"#0d0887\"],[0.1111111111111111,\"#46039f\"],[0.2222222222222222,\"#7201a8\"],[0.3333333333333333,\"#9c179e\"],[0.4444444444444444,\"#bd3786\"],[0.5555555555555556,\"#d8576b\"],[0.6666666666666666,\"#ed7953\"],[0.7777777777777778,\"#fb9f3a\"],[0.8888888888888888,\"#fdca26\"],[1.0,\"#f0f921\"]]}],\"choropleth\":[{\"type\":\"choropleth\",\"colorbar\":{\"outlinewidth\":0,\"ticks\":\"\"}}],\"histogram2d\":[{\"type\":\"histogram2d\",\"colorbar\":{\"outlinewidth\":0,\"ticks\":\"\"},\"colorscale\":[[0.0,\"#0d0887\"],[0.1111111111111111,\"#46039f\"],[0.2222222222222222,\"#7201a8\"],[0.3333333333333333,\"#9c179e\"],[0.4444444444444444,\"#bd3786\"],[0.5555555555555556,\"#d8576b\"],[0.6666666666666666,\"#ed7953\"],[0.7777777777777778,\"#fb9f3a\"],[0.8888888888888888,\"#fdca26\"],[1.0,\"#f0f921\"]]}],\"heatmap\":[{\"type\":\"heatmap\",\"colorbar\":{\"outlinewidth\":0,\"ticks\":\"\"},\"colorscale\":[[0.0,\"#0d0887\"],[0.1111111111111111,\"#46039f\"],[0.2222222222222222,\"#7201a8\"],[0.3333333333333333,\"#9c179e\"],[0.4444444444444444,\"#bd3786\"],[0.5555555555555556,\"#d8576b\"],[0.6666666666666666,\"#ed7953\"],[0.7777777777777778,\"#fb9f3a\"],[0.8888888888888888,\"#fdca26\"],[1.0,\"#f0f921\"]]}],\"heatmapgl\":[{\"type\":\"heatmapgl\",\"colorbar\":{\"outlinewidth\":0,\"ticks\":\"\"},\"colorscale\":[[0.0,\"#0d0887\"],[0.1111111111111111,\"#46039f\"],[0.2222222222222222,\"#7201a8\"],[0.3333333333333333,\"#9c179e\"],[0.4444444444444444,\"#bd3786\"],[0.5555555555555556,\"#d8576b\"],[0.6666666666666666,\"#ed7953\"],[0.7777777777777778,\"#fb9f3a\"],[0.8888888888888888,\"#fdca26\"],[1.0,\"#f0f921\"]]}],\"contourcarpet\":[{\"type\":\"contourcarpet\",\"colorbar\":{\"outlinewidth\":0,\"ticks\":\"\"}}],\"contour\":[{\"type\":\"contour\",\"colorbar\":{\"outlinewidth\":0,\"ticks\":\"\"},\"colorscale\":[[0.0,\"#0d0887\"],[0.1111111111111111,\"#46039f\"],[0.2222222222222222,\"#7201a8\"],[0.3333333333333333,\"#9c179e\"],[0.4444444444444444,\"#bd3786\"],[0.5555555555555556,\"#d8576b\"],[0.6666666666666666,\"#ed7953\"],[0.7777777777777778,\"#fb9f3a\"],[0.8888888888888888,\"#fdca26\"],[1.0,\"#f0f921\"]]}],\"surface\":[{\"type\":\"surface\",\"colorbar\":{\"outlinewidth\":0,\"ticks\":\"\"},\"colorscale\":[[0.0,\"#0d0887\"],[0.1111111111111111,\"#46039f\"],[0.2222222222222222,\"#7201a8\"],[0.3333333333333333,\"#9c179e\"],[0.4444444444444444,\"#bd3786\"],[0.5555555555555556,\"#d8576b\"],[0.6666666666666666,\"#ed7953\"],[0.7777777777777778,\"#fb9f3a\"],[0.8888888888888888,\"#fdca26\"],[1.0,\"#f0f921\"]]}],\"mesh3d\":[{\"type\":\"mesh3d\",\"colorbar\":{\"outlinewidth\":0,\"ticks\":\"\"}}],\"scatter\":[{\"fillpattern\":{\"fillmode\":\"overlay\",\"size\":10,\"solidity\":0.2},\"type\":\"scatter\"}],\"parcoords\":[{\"type\":\"parcoords\",\"line\":{\"colorbar\":{\"outlinewidth\":0,\"ticks\":\"\"}}}],\"scatterpolargl\":[{\"type\":\"scatterpolargl\",\"marker\":{\"colorbar\":{\"outlinewidth\":0,\"ticks\":\"\"}}}],\"bar\":[{\"error_x\":{\"color\":\"#2a3f5f\"},\"error_y\":{\"color\":\"#2a3f5f\"},\"marker\":{\"line\":{\"color\":\"#E5ECF6\",\"width\":0.5},\"pattern\":{\"fillmode\":\"overlay\",\"size\":10,\"solidity\":0.2}},\"type\":\"bar\"}],\"scattergeo\":[{\"type\":\"scattergeo\",\"marker\":{\"colorbar\":{\"outlinewidth\":0,\"ticks\":\"\"}}}],\"scatterpolar\":[{\"type\":\"scatterpolar\",\"marker\":{\"colorbar\":{\"outlinewidth\":0,\"ticks\":\"\"}}}],\"histogram\":[{\"marker\":{\"pattern\":{\"fillmode\":\"overlay\",\"size\":10,\"solidity\":0.2}},\"type\":\"histogram\"}],\"scattergl\":[{\"type\":\"scattergl\",\"marker\":{\"colorbar\":{\"outlinewidth\":0,\"ticks\":\"\"}}}],\"scatter3d\":[{\"type\":\"scatter3d\",\"line\":{\"colorbar\":{\"outlinewidth\":0,\"ticks\":\"\"}},\"marker\":{\"colorbar\":{\"outlinewidth\":0,\"ticks\":\"\"}}}],\"scattermapbox\":[{\"type\":\"scattermapbox\",\"marker\":{\"colorbar\":{\"outlinewidth\":0,\"ticks\":\"\"}}}],\"scatterternary\":[{\"type\":\"scatterternary\",\"marker\":{\"colorbar\":{\"outlinewidth\":0,\"ticks\":\"\"}}}],\"scattercarpet\":[{\"type\":\"scattercarpet\",\"marker\":{\"colorbar\":{\"outlinewidth\":0,\"ticks\":\"\"}}}],\"carpet\":[{\"aaxis\":{\"endlinecolor\":\"#2a3f5f\",\"gridcolor\":\"white\",\"linecolor\":\"white\",\"minorgridcolor\":\"white\",\"startlinecolor\":\"#2a3f5f\"},\"baxis\":{\"endlinecolor\":\"#2a3f5f\",\"gridcolor\":\"white\",\"linecolor\":\"white\",\"minorgridcolor\":\"white\",\"startlinecolor\":\"#2a3f5f\"},\"type\":\"carpet\"}],\"table\":[{\"cells\":{\"fill\":{\"color\":\"#EBF0F8\"},\"line\":{\"color\":\"white\"}},\"header\":{\"fill\":{\"color\":\"#C8D4E3\"},\"line\":{\"color\":\"white\"}},\"type\":\"table\"}],\"barpolar\":[{\"marker\":{\"line\":{\"color\":\"#E5ECF6\",\"width\":0.5},\"pattern\":{\"fillmode\":\"overlay\",\"size\":10,\"solidity\":0.2}},\"type\":\"barpolar\"}],\"pie\":[{\"automargin\":true,\"type\":\"pie\"}]},\"layout\":{\"autotypenumbers\":\"strict\",\"colorway\":[\"#636efa\",\"#EF553B\",\"#00cc96\",\"#ab63fa\",\"#FFA15A\",\"#19d3f3\",\"#FF6692\",\"#B6E880\",\"#FF97FF\",\"#FECB52\"],\"font\":{\"color\":\"#2a3f5f\"},\"hovermode\":\"closest\",\"hoverlabel\":{\"align\":\"left\"},\"paper_bgcolor\":\"white\",\"plot_bgcolor\":\"#E5ECF6\",\"polar\":{\"bgcolor\":\"#E5ECF6\",\"angularaxis\":{\"gridcolor\":\"white\",\"linecolor\":\"white\",\"ticks\":\"\"},\"radialaxis\":{\"gridcolor\":\"white\",\"linecolor\":\"white\",\"ticks\":\"\"}},\"ternary\":{\"bgcolor\":\"#E5ECF6\",\"aaxis\":{\"gridcolor\":\"white\",\"linecolor\":\"white\",\"ticks\":\"\"},\"baxis\":{\"gridcolor\":\"white\",\"linecolor\":\"white\",\"ticks\":\"\"},\"caxis\":{\"gridcolor\":\"white\",\"linecolor\":\"white\",\"ticks\":\"\"}},\"coloraxis\":{\"colorbar\":{\"outlinewidth\":0,\"ticks\":\"\"}},\"colorscale\":{\"sequential\":[[0.0,\"#0d0887\"],[0.1111111111111111,\"#46039f\"],[0.2222222222222222,\"#7201a8\"],[0.3333333333333333,\"#9c179e\"],[0.4444444444444444,\"#bd3786\"],[0.5555555555555556,\"#d8576b\"],[0.6666666666666666,\"#ed7953\"],[0.7777777777777778,\"#fb9f3a\"],[0.8888888888888888,\"#fdca26\"],[1.0,\"#f0f921\"]],\"sequentialminus\":[[0.0,\"#0d0887\"],[0.1111111111111111,\"#46039f\"],[0.2222222222222222,\"#7201a8\"],[0.3333333333333333,\"#9c179e\"],[0.4444444444444444,\"#bd3786\"],[0.5555555555555556,\"#d8576b\"],[0.6666666666666666,\"#ed7953\"],[0.7777777777777778,\"#fb9f3a\"],[0.8888888888888888,\"#fdca26\"],[1.0,\"#f0f921\"]],\"diverging\":[[0,\"#8e0152\"],[0.1,\"#c51b7d\"],[0.2,\"#de77ae\"],[0.3,\"#f1b6da\"],[0.4,\"#fde0ef\"],[0.5,\"#f7f7f7\"],[0.6,\"#e6f5d0\"],[0.7,\"#b8e186\"],[0.8,\"#7fbc41\"],[0.9,\"#4d9221\"],[1,\"#276419\"]]},\"xaxis\":{\"gridcolor\":\"white\",\"linecolor\":\"white\",\"ticks\":\"\",\"title\":{\"standoff\":15},\"zerolinecolor\":\"white\",\"automargin\":true,\"zerolinewidth\":2},\"yaxis\":{\"gridcolor\":\"white\",\"linecolor\":\"white\",\"ticks\":\"\",\"title\":{\"standoff\":15},\"zerolinecolor\":\"white\",\"automargin\":true,\"zerolinewidth\":2},\"scene\":{\"xaxis\":{\"backgroundcolor\":\"#E5ECF6\",\"gridcolor\":\"white\",\"linecolor\":\"white\",\"showbackground\":true,\"ticks\":\"\",\"zerolinecolor\":\"white\",\"gridwidth\":2},\"yaxis\":{\"backgroundcolor\":\"#E5ECF6\",\"gridcolor\":\"white\",\"linecolor\":\"white\",\"showbackground\":true,\"ticks\":\"\",\"zerolinecolor\":\"white\",\"gridwidth\":2},\"zaxis\":{\"backgroundcolor\":\"#E5ECF6\",\"gridcolor\":\"white\",\"linecolor\":\"white\",\"showbackground\":true,\"ticks\":\"\",\"zerolinecolor\":\"white\",\"gridwidth\":2}},\"shapedefaults\":{\"line\":{\"color\":\"#2a3f5f\"}},\"annotationdefaults\":{\"arrowcolor\":\"#2a3f5f\",\"arrowhead\":0,\"arrowwidth\":1},\"geo\":{\"bgcolor\":\"white\",\"landcolor\":\"#E5ECF6\",\"subunitcolor\":\"white\",\"showland\":true,\"showlakes\":true,\"lakecolor\":\"white\"},\"title\":{\"x\":0.05},\"mapbox\":{\"style\":\"light\"}}},\"xaxis\":{\"anchor\":\"y\",\"domain\":[0.0,1.0],\"title\":{\"text\":\"Dias\"}},\"yaxis\":{\"anchor\":\"x\",\"domain\":[0.0,1.0],\"title\":{\"text\":\"Sess\\u00f5es\"}},\"legend\":{\"tracegroupgap\":0,\"title\":{\"text\":\"Legenda\"}},\"title\":{\"text\":\"Previs\\u00e3o de Sess\\u00f5es para os Pr\\u00f3ximos 60 Dias\"}},                        {\"responsive\": true}                    ).then(function(){\n",
              "                            \n",
              "var gd = document.getElementById('5765483c-186b-41d1-b5da-f054e39bd9cc');\n",
              "var x = new MutationObserver(function (mutations, observer) {{\n",
              "        var display = window.getComputedStyle(gd).display;\n",
              "        if (!display || display === 'none') {{\n",
              "            console.log([gd, 'removed!']);\n",
              "            Plotly.purge(gd);\n",
              "            observer.disconnect();\n",
              "        }}\n",
              "}});\n",
              "\n",
              "// Listen for the removal of the full notebook cells\n",
              "var notebookContainer = gd.closest('#notebook-container');\n",
              "if (notebookContainer) {{\n",
              "    x.observe(notebookContainer, {childList: true});\n",
              "}}\n",
              "\n",
              "// Listen for the clearing of the current output cell\n",
              "var outputEl = gd.closest('.output');\n",
              "if (outputEl) {{\n",
              "    x.observe(outputEl, {childList: true});\n",
              "}}\n",
              "\n",
              "                        })                };                            </script>        </div>\n",
              "</body>\n",
              "</html>"
            ]
          },
          "metadata": {}
        }
      ]
    },
    {
      "cell_type": "markdown",
      "source": [
        "Simulação da variação diária de sessões ao longo de 60 dias."
      ],
      "metadata": {
        "id": "VLiLh-Rom5xF"
      }
    },
    {
      "cell_type": "markdown",
      "source": [
        "### Questão 3"
      ],
      "metadata": {
        "id": "FoJuZPC22IyH"
      }
    },
    {
      "cell_type": "markdown",
      "source": [
        "**Análise de Sensibilidade**: Realize uma análise de sensibilidade para examinar como alterações em diferentes variáveis de entrada afetam as previsões da taxa de conversão."
      ],
      "metadata": {
        "id": "SHpxU3Vs1kYY"
      }
    },
    {
      "cell_type": "code",
      "source": [
        "sensibilidade = (media / (media + simulacoes))\n",
        "sensibilidade"
      ],
      "metadata": {
        "id": "9--wz6QK2kII",
        "colab": {
          "base_uri": "https://localhost:8080/"
        },
        "outputId": "d6f9208a-0019-4ef9-bb40-4a23cf2507ec"
      },
      "execution_count": 53,
      "outputs": [
        {
          "output_type": "execute_result",
          "data": {
            "text/plain": [
              "array([[0.87513311, 0.56710674, 0.75009452, ..., 0.46748226, 0.49235376,\n",
              "        0.43752625],\n",
              "       [0.36641127, 0.49944409, 0.41035111, ..., 0.57145846, 0.56609413,\n",
              "        0.59425041],\n",
              "       [1.08712149, 0.64351398, 0.64133842, ..., 0.49015273, 0.75779864,\n",
              "        0.58748677],\n",
              "       ...,\n",
              "       [1.61103635, 0.46287591, 0.81146211, ..., 0.56026501, 0.37709716,\n",
              "        0.56893351],\n",
              "       [0.46149911, 0.58333707, 0.51237674, ..., 0.51184485, 0.62740818,\n",
              "        0.69204349],\n",
              "       [0.44833743, 0.45426635, 0.46396581, ..., 0.40784607, 0.34104315,\n",
              "        0.52668215]])"
            ]
          },
          "metadata": {},
          "execution_count": 53
        }
      ]
    },
    {
      "cell_type": "markdown",
      "source": [
        "## Entrega"
      ],
      "metadata": {
        "id": "Wsm10r4z2pr_"
      }
    },
    {
      "cell_type": "markdown",
      "source": [
        "Siga esses passos para entregar sua prova.\n",
        "\n",
        "1. Crie um repositório no GitHub para essa entrega.\n",
        "\n",
        "2. Submeta seu desenvolvimento neste repositório.\n",
        "\n",
        "3. Garanta que o repositório é publicamente acessível (eliminatório).\n",
        "\n",
        "4. No Google forms da prova, submeta a URL do repositório."
      ],
      "metadata": {
        "id": "xVOV_CWxMBX_"
      }
    }
  ]
}